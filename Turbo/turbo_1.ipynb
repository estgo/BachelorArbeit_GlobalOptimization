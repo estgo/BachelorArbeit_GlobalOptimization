{
 "cells": [
  {
   "cell_type": "markdown",
   "metadata": {
    "originalKey": "1bc3d568-b16a-4fe5-9667-c0e187f9a366",
    "showInput": false
   },
   "source": [
    "## BO with TuRBO-1 and TS/qEI\n",
    "\n",
    "In this tutorial, we show how to implement Trust Region Bayesian Optimization (TuRBO) [1] in a closed loop in BoTorch.\n",
    "\n",
    "This implementation uses one trust region (TuRBO-1) and supports either parallel expected improvement (qEI) or Thompson sampling (TS). We optimize the $20D$ Ackley function on the domain $[-5, 10]^{20}$ and show that TuRBO-1 outperforms qEI as well as Sobol.\n",
    "\n",
    "Since botorch assumes a maximization problem, we will attempt to maximize $-f(x)$ to achieve $\\max_x -f(x)=0$.\n",
    "\n",
    "[1]: [Eriksson, David, et al. Scalable global optimization via local Bayesian optimization. Advances in Neural Information Processing Systems. 2019](https://proceedings.neurips.cc/paper/2019/file/6c990b7aca7bc7058f5e98ea909e924b-Paper.pdf)\n"
   ]
  },
  {
   "cell_type": "code",
   "execution_count": 1,
   "metadata": {
    "executionStartTime": 1674921563794,
    "executionStopTime": 1674921566438,
    "jupyter": {
     "outputs_hidden": false
    },
    "originalKey": "c11881c9-13f5-4e35-bdc8-b8f817089713",
    "requestMsgId": "b21eda64-89d8-461f-a9d1-57117892e0c9"
   },
   "outputs": [],
   "source": [
    "import os\n",
    "import math\n",
    "import warnings\n",
    "from dataclasses import dataclass\n",
    "\n",
    "import torch\n",
    "from botorch.acquisition import qExpectedImprovement, qLogExpectedImprovement\n",
    "from botorch.exceptions import BadInitialCandidatesWarning\n",
    "from botorch.fit import fit_gpytorch_mll\n",
    "from botorch.generation import MaxPosteriorSampling\n",
    "from botorch.models import SingleTaskGP\n",
    "from botorch.optim import optimize_acqf\n",
    "from botorch.test_functions import Ackley\n",
    "from botorch.utils.transforms import unnormalize\n",
    "from torch.quasirandom import SobolEngine\n",
    "\n",
    "import gpytorch\n",
    "from gpytorch.constraints import Interval\n",
    "from gpytorch.kernels import MaternKernel, ScaleKernel\n",
    "from gpytorch.likelihoods import GaussianLikelihood\n",
    "from gpytorch.mlls import ExactMarginalLogLikelihood\n",
    "\n",
    "import numpy as np\n",
    "\n",
    "\n",
    "\n",
    "warnings.filterwarnings(\"ignore\", category=BadInitialCandidatesWarning)\n",
    "warnings.filterwarnings(\"ignore\", category=RuntimeWarning)\n",
    "\n",
    "device = torch.device(\"cuda\" if torch.cuda.is_available() else \"cpu\")\n",
    "dtype = torch.double\n",
    "SMOKE_TEST = os.environ.get(\"SMOKE_TEST\")"
   ]
  },
  {
   "cell_type": "markdown",
   "metadata": {
    "originalKey": "5be02873-2895-4451-8bf6-35e3cd0e6f99",
    "showInput": false
   },
   "source": [
    "## Optimize the 20-dimensional Ackley function\n",
    "\n",
    "The goal is to minimize the popular Ackley function:\n",
    "\n",
    "$f(x_1,\\ldots,x_d) = -20\\exp\\left(-0.2 \\sqrt{\\frac{1}{d} \\sum_{j=1}^d x_j^2} \\right) -\\exp \\left( \\frac{1}{d} \\sum_{j=1}^d \\cos(2 \\pi x_j) \\right) + 20 + e$\n",
    "\n",
    "over the domain  $[-5, 10]^{20}$.  The global optimal value of $0$ is attained at $x_1 = \\ldots = x_d = 0$.\n",
    "\n",
    "As mentioned above, since botorch assumes a maximization problem, we instead maximize $-f(x)$."
   ]
  },
  {
   "cell_type": "code",
   "execution_count": 2,
   "metadata": {
    "executionStartTime": 1674921566576,
    "executionStopTime": 1674921566582,
    "jupyter": {
     "outputs_hidden": false
    },
    "originalKey": "069fba29-e308-4a40-b92e-b1a5bdc8dcd8",
    "requestMsgId": "40b2ab4c-067e-4e9f-9330-93dcda5f3e8c"
   },
   "outputs": [],
   "source": [
    "fun = Ackley(dim=20, negate=True).to(dtype=dtype, device=device)\n",
    "fun.bounds[0, :].fill_(-5)\n",
    "fun.bounds[1, :].fill_(10)\n",
    "dim = 20\n",
    "lb, ub = fun.bounds\n",
    "\n",
    "batch_size = 4\n",
    "n_init = 2 * dim\n",
    "max_cholesky_size = float(\"inf\")  # Always use Cholesky\n",
    "\n",
    "\n",
    "def eval_objective(x):\n",
    "    \"\"\"This is a helper function we use to unnormalize and evalaute a point\"\"\"\n",
    "    return fun(unnormalize(x, fun.bounds))"
   ]
  },
  {
   "cell_type": "markdown",
   "metadata": {
    "originalKey": "6e19c4b3-1364-4789-833d-c7ae648e7a78",
    "showInput": false
   },
   "source": [
    "## Maintain the TuRBO state\n",
    "TuRBO needs to maintain a state, which includes the length of the trust region, success and failure counters, success and failure tolerance, etc. \n",
    "\n",
    "In this tutorial we store the state in a dataclass and update the state of TuRBO after each batch evaluation. \n",
    "\n",
    "**Note**: These settings assume that the domain has been scaled to $[0, 1]^d$ and that the same batch size is used for each iteration."
   ]
  },
  {
   "cell_type": "code",
   "execution_count": 3,
   "metadata": {
    "executionStartTime": 1674921566718,
    "executionStopTime": 1674921566731,
    "jupyter": {
     "outputs_hidden": false
    },
    "originalKey": "4c419a40-d6cf-43de-8c60-e8445c3ca473",
    "requestMsgId": "5fb06df5-5815-47f9-bfa5-73155751345f"
   },
   "outputs": [],
   "source": [
    "@dataclass\n",
    "class TurboState:\n",
    "    dim: int\n",
    "    batch_size: int\n",
    "    length: float = 0.8\n",
    "    length_min: float = 0.5**7\n",
    "    length_max: float = 1.6\n",
    "    failure_counter: int = 0\n",
    "    failure_tolerance: int = float(\"nan\")  # Note: Post-initialized\n",
    "    success_counter: int = 0\n",
    "    success_tolerance: int = 10  # Note: The original paper uses 3\n",
    "    best_value: float = -float(\"inf\")\n",
    "    restart_triggered: bool = False\n",
    "\n",
    "    def __post_init__(self):\n",
    "        self.failure_tolerance = math.ceil(\n",
    "            max([4.0 / self.batch_size, float(self.dim) / self.batch_size])\n",
    "        )\n",
    "\n",
    "\n",
    "def update_state(state, Y_next):\n",
    "    if max(Y_next) > state.best_value + 1e-3 * math.fabs(state.best_value):\n",
    "        state.success_counter += 1\n",
    "        state.failure_counter = 0\n",
    "    else:\n",
    "        state.success_counter = 0\n",
    "        state.failure_counter += 1\n",
    "\n",
    "    if state.success_counter == state.success_tolerance:  # Expand trust region\n",
    "        state.length = min(2.0 * state.length, state.length_max)\n",
    "        state.success_counter = 0\n",
    "    elif state.failure_counter == state.failure_tolerance:  # Shrink trust region\n",
    "        state.length /= 2.0\n",
    "        state.failure_counter = 0\n",
    "\n",
    "    state.best_value = max(state.best_value, max(Y_next).item())\n",
    "    if state.length < state.length_min:\n",
    "        state.restart_triggered = True\n",
    "    return state"
   ]
  },
  {
   "cell_type": "markdown",
   "metadata": {
    "originalKey": "e03f6fa1-83d1-4f7e-8dfd-0a0a53a9ad1c",
    "showInput": false
   },
   "source": [
    "## Take a look at the state"
   ]
  },
  {
   "cell_type": "code",
   "execution_count": 4,
   "metadata": {
    "executionStartTime": 1674921566859,
    "executionStopTime": 1674921566868,
    "jupyter": {
     "outputs_hidden": false
    },
    "originalKey": "e06a71f5-ab79-4c11-a798-2dd5f3cf40e1",
    "requestMsgId": "af20e76d-b6b3-4f59-82ae-e1d3a3159b8d"
   },
   "outputs": [
    {
     "name": "stdout",
     "output_type": "stream",
     "text": [
      "TurboState(dim=20, batch_size=4, length=0.8, length_min=0.0078125, length_max=1.6, failure_counter=0, failure_tolerance=5, success_counter=0, success_tolerance=10, best_value=-inf, restart_triggered=False)\n"
     ]
    }
   ],
   "source": [
    "state = TurboState(dim=dim, batch_size=batch_size)\n",
    "print(state)"
   ]
  },
  {
   "cell_type": "markdown",
   "metadata": {
    "originalKey": "9fc2a1a5-1b3e-429a-933f-49739c0e9a6b",
    "showInput": false
   },
   "source": [
    "## Generate initial points\n",
    "This generates an initial set of Sobol points that we use to start of the BO loop."
   ]
  },
  {
   "cell_type": "code",
   "execution_count": 5,
   "metadata": {
    "executionStartTime": 1674921567266,
    "executionStopTime": 1674921567271,
    "jupyter": {
     "outputs_hidden": false
    },
    "originalKey": "f0a7d80a-efba-4b9d-b5bc-64fdf62d0e99",
    "requestMsgId": "890e6347-f465-428c-a332-f6e3bbe34aa6"
   },
   "outputs": [
    {
     "name": "stdout",
     "output_type": "stream",
     "text": [
      "tensor([[7.7759e-01, 9.6886e-01, 1.9762e-02, 6.4003e-01, 9.6048e-01, 2.3359e-01,\n",
      "         7.1739e-01, 4.6922e-01, 8.1203e-01, 7.8806e-01],\n",
      "        [4.3388e-01, 1.3666e-01, 8.8659e-01, 3.2330e-01, 1.3922e-01, 6.9883e-01,\n",
      "         2.2861e-01, 7.6478e-01, 1.5706e-01, 4.7563e-01],\n",
      "        [3.5428e-04, 7.1369e-01, 4.9026e-01, 9.1797e-01, 4.3438e-01, 8.1915e-01,\n",
      "         7.9838e-01, 7.3357e-01, 3.5332e-01, 1.7260e-01],\n",
      "        [6.5643e-01, 4.2309e-01, 6.0342e-01, 1.0197e-01, 7.2446e-01, 3.4616e-01,\n",
      "         2.5492e-01, 4.4473e-04, 7.4083e-01, 6.1064e-01],\n",
      "        [5.9109e-01, 5.0894e-01, 8.2762e-01, 1.3142e-01, 6.2043e-01, 1.1639e-01,\n",
      "         8.9235e-01, 6.2314e-01, 4.3431e-01, 3.5535e-01],\n",
      "        [2.4728e-01, 3.4646e-01, 2.0371e-01, 8.1540e-01, 2.8347e-01, 5.8156e-01,\n",
      "         4.1141e-01, 1.4191e-01, 5.3509e-01, 9.1609e-01],\n",
      "        [3.1362e-01, 8.0069e-01, 6.6920e-01, 4.1207e-01, 1.5717e-02, 9.6759e-01,\n",
      "         6.2387e-01, 3.6060e-01, 9.7944e-01, 7.4771e-01],\n",
      "        [9.7005e-01, 8.5973e-02, 2.9944e-01, 5.9532e-01, 8.2135e-01, 4.9453e-01,\n",
      "         7.2587e-02, 9.0439e-01, 1.1488e-01, 5.8916e-02],\n",
      "        [9.1639e-01, 6.7190e-01, 7.2718e-01, 7.8145e-01, 2.4630e-01, 3.0894e-01,\n",
      "         9.5818e-01, 5.3885e-01, 4.4938e-01, 5.0804e-01],\n",
      "        [2.5983e-01, 4.6476e-01, 3.6647e-01, 2.2302e-01, 9.1126e-01, 7.7437e-01,\n",
      "         4.7040e-01, 1.9586e-01, 5.8153e-01, 1.9705e-01]], dtype=torch.float64)\n",
      "tensor([[0.0000, 0.3290, 0.5384, 0.5025, 0.5990, 0.0681, 0.6138, 0.2216, 0.3304,\n",
      "         0.8585],\n",
      "        [0.8410, 0.8254, 1.0000, 0.9004, 1.0000, 0.0000, 0.8366, 0.9796, 0.8397,\n",
      "         0.0428],\n",
      "        [0.8031, 0.0000, 0.3794, 1.0000, 0.8951, 0.6619, 0.7268, 0.3227, 0.6337,\n",
      "         0.4297],\n",
      "        [0.1866, 0.6236, 0.0937, 0.0000, 0.0000, 1.0000, 0.0000, 0.1803, 0.5518,\n",
      "         0.1192],\n",
      "        [0.2812, 0.8592, 0.8218, 0.0676, 0.9079, 0.4382, 0.7497, 0.4133, 0.0000,\n",
      "         0.3355],\n",
      "        [0.2019, 1.0000, 0.9845, 0.5446, 0.4047, 0.6938, 0.5683, 0.8223, 1.0000,\n",
      "         0.1950],\n",
      "        [0.1653, 0.2011, 0.9353, 0.5911, 0.8173, 0.4099, 0.0774, 1.0000, 0.1390,\n",
      "         0.0621],\n",
      "        [0.8329, 0.4043, 0.9998, 0.6967, 0.7088, 0.2691, 0.9877, 0.1867, 0.9950,\n",
      "         1.0000],\n",
      "        [1.0000, 0.0938, 0.3503, 0.0660, 0.9425, 0.1540, 0.8979, 0.0000, 0.5577,\n",
      "         0.1866],\n",
      "        [0.0521, 0.7941, 0.0000, 0.7797, 0.3757, 0.9982, 1.0000, 0.9379, 0.7368,\n",
      "         0.0000]], dtype=torch.float64)\n"
     ]
    }
   ],
   "source": [
    "def get_initial_points(dim, n_pts, seed=0):\n",
    "    sobol = SobolEngine(dimension=dim, scramble=True, seed=seed)\n",
    "    X_init = sobol.draw(n=n_pts).to(dtype=dtype, device=device)\n",
    "    return X_init\n",
    "\n",
    "def generate_random_points(dim, n_pts):\n",
    "    # Generate random points in the range [0, np.pi]\n",
    "    x = (torch.rand(n_pts, dim) * np.pi).to(dtype=dtype, device=device)\n",
    "    \n",
    "    # Min-max scaling to the range [0, 1]\n",
    "    min_val = torch.min(x, dim=0, keepdim=True).values\n",
    "    max_val = torch.max(x, dim=0, keepdim=True).values\n",
    "    x_scaled = (x - min_val) / (max_val - min_val)\n",
    "    \n",
    "    return x_scaled\n",
    "\n",
    "print(get_initial_points(10, 10, 2))\n",
    "print(generate_random_points(10, 10))"
   ]
  },
  {
   "cell_type": "markdown",
   "metadata": {
    "originalKey": "d7ed19a9-4662-496c-880b-c2e0717c4117",
    "showInput": false
   },
   "source": [
    "## Generate new batch\n",
    "Given the current `state` and a probabilistic (GP) `model` built from observations `X` and `Y`, we generate a new batch of points.  \n",
    "\n",
    "This method works on the domain $[0, 1]^d$, so make sure to not pass in observations from the true domain.  `unnormalize` is called before the true function is evaluated which will first map the points back to the original domain.\n",
    "\n",
    "We support either TS and qEI which can be specified via the `acqf` argument."
   ]
  },
  {
   "cell_type": "code",
   "execution_count": 6,
   "metadata": {
    "executionStartTime": 1674921567409,
    "executionStopTime": 1674921567429,
    "jupyter": {
     "outputs_hidden": false
    },
    "originalKey": "f4a1f540-1959-4f95-92b1-696525a50347",
    "requestMsgId": "90e9fc43-786b-4027-b89e-f76dc8e472f0"
   },
   "outputs": [],
   "source": [
    "def generate_batch(\n",
    "    state,\n",
    "    model,  # GP model\n",
    "    X,  # Evaluated points on the domain [0, 1]^d\n",
    "    Y,  # Function values\n",
    "    batch_size,\n",
    "    n_candidates=None,  # Number of candidates for Thompson sampling\n",
    "    num_restarts=10,\n",
    "    raw_samples=512,\n",
    "    acqf=\"ts\",  # \"ei\" or \"ts\"\n",
    "):\n",
    "    assert acqf in (\"ts\", \"ei\")\n",
    "    assert X.min() >= 0.0 and X.max() <= 1.0 and torch.all(torch.isfinite(Y))\n",
    "    if n_candidates is None:\n",
    "        n_candidates = min(5000, max(2000, 200 * X.shape[-1]))\n",
    "\n",
    "    # Scale the TR to be proportional to the lengthscales\n",
    "    x_center = X[Y.argmax(), :].clone()\n",
    "    weights = model.covar_module.base_kernel.lengthscale.squeeze().detach()\n",
    "    weights = weights / weights.mean()\n",
    "    weights = weights / torch.prod(weights.pow(1.0 / len(weights)))\n",
    "    tr_lb = torch.clamp(x_center - weights * state.length / 2.0, 0.0, 1.0)\n",
    "    tr_ub = torch.clamp(x_center + weights * state.length / 2.0, 0.0, 1.0)\n",
    "\n",
    "    if acqf == \"ts\":\n",
    "        dim = X.shape[-1]\n",
    "        pert = generate_random_points(dim, n_candidates)\n",
    "        pert = tr_lb + (tr_ub - tr_lb) * pert\n",
    "\n",
    "        # Create a perturbation mask\n",
    "        prob_perturb = min(20.0 / dim, 1.0)\n",
    "        mask = torch.rand(n_candidates, dim, dtype=dtype, device=device) <= prob_perturb\n",
    "        ind = torch.where(mask.sum(dim=1) == 0)[0]\n",
    "        mask[ind, torch.randint(0, dim - 1, size=(len(ind),), device=device)] = 1\n",
    "\n",
    "        # Create candidate points from the perturbations and the mask\n",
    "        X_cand = x_center.expand(n_candidates, dim).clone()\n",
    "        X_cand[mask] = pert[mask]\n",
    "\n",
    "        # Sample on the candidate points\n",
    "        thompson_sampling = MaxPosteriorSampling(model=model, replacement=False)\n",
    "        with torch.no_grad():  # We don't need gradients when using TS\n",
    "            X_next = thompson_sampling(X_cand, num_samples=batch_size)\n",
    "\n",
    "    elif acqf == \"ei\":\n",
    "        ei = qExpectedImprovement(model, train_Y.max())\n",
    "        X_next, acq_value = optimize_acqf(\n",
    "            ei,\n",
    "            bounds=torch.stack([tr_lb, tr_ub]),\n",
    "            q=batch_size,\n",
    "            num_restarts=num_restarts,\n",
    "            raw_samples=raw_samples,\n",
    "        )\n",
    "\n",
    "    return X_next"
   ]
  },
  {
   "cell_type": "markdown",
   "metadata": {
    "originalKey": "6b3dceba-35f5-4678-b21a-3b4ca22d3190",
    "showInput": false
   },
   "source": [
    "## Optimization loop\n",
    "This simple loop runs one instance of TuRBO-1 with Thompson sampling until convergence.\n",
    "\n",
    "TuRBO-1 is a local optimizer that can be used for a fixed evaluation budget in a multi-start fashion.  Once TuRBO converges, `state[\"restart_triggered\"]` will be set to true and the run should be aborted.  If you want to run more evaluations with TuRBO, you simply generate a new set of initial points and then keep generating batches until convergence or when the evaluation budget has been exceeded.  It's important to note that evaluations from previous instances are discarded when TuRBO restarts.\n",
    "\n",
    "NOTE: We use a `SingleTaskGP` with a noise constraint to keep the noise from getting too large as the problem is noise-free. "
   ]
  },
  {
   "cell_type": "code",
   "execution_count": 7,
   "metadata": {
    "executionStartTime": 1674921567583,
    "executionStopTime": 1674921663734,
    "jupyter": {
     "outputs_hidden": false
    },
    "originalKey": "89258ea0-2a0c-4b88-8606-79ed531f0d97",
    "requestMsgId": "98ebf52b-fddf-485c-a250-d857b501eb19"
   },
   "outputs": [
    {
     "name": "stdout",
     "output_type": "stream",
     "text": [
      "44) Best value: -1.06e+01, TR length: 8.00e-01\n",
      "48) Best value: -1.04e+01, TR length: 8.00e-01\n",
      "52) Best value: -1.04e+01, TR length: 8.00e-01\n",
      "56) Best value: -8.26e+00, TR length: 8.00e-01\n",
      "60) Best value: -8.26e+00, TR length: 8.00e-01\n",
      "64) Best value: -8.26e+00, TR length: 8.00e-01\n",
      "68) Best value: -8.26e+00, TR length: 8.00e-01\n",
      "72) Best value: -8.26e+00, TR length: 8.00e-01\n",
      "76) Best value: -8.26e+00, TR length: 4.00e-01\n",
      "80) Best value: -8.26e+00, TR length: 4.00e-01\n",
      "84) Best value: -7.07e+00, TR length: 4.00e-01\n",
      "88) Best value: -7.07e+00, TR length: 4.00e-01\n",
      "92) Best value: -7.07e+00, TR length: 4.00e-01\n",
      "96) Best value: -6.07e+00, TR length: 4.00e-01\n",
      "100) Best value: -6.07e+00, TR length: 4.00e-01\n",
      "104) Best value: -6.07e+00, TR length: 4.00e-01\n",
      "108) Best value: -6.07e+00, TR length: 4.00e-01\n",
      "112) Best value: -6.07e+00, TR length: 4.00e-01\n",
      "116) Best value: -6.07e+00, TR length: 2.00e-01\n",
      "120) Best value: -5.76e+00, TR length: 2.00e-01\n",
      "124) Best value: -4.72e+00, TR length: 2.00e-01\n",
      "128) Best value: -4.40e+00, TR length: 2.00e-01\n",
      "132) Best value: -3.56e+00, TR length: 2.00e-01\n",
      "136) Best value: -3.56e+00, TR length: 2.00e-01\n",
      "140) Best value: -3.56e+00, TR length: 2.00e-01\n",
      "144) Best value: -3.56e+00, TR length: 2.00e-01\n",
      "148) Best value: -3.56e+00, TR length: 2.00e-01\n",
      "152) Best value: -3.56e+00, TR length: 1.00e-01\n",
      "156) Best value: -3.56e+00, TR length: 1.00e-01\n",
      "160) Best value: -3.45e+00, TR length: 1.00e-01\n",
      "164) Best value: -3.30e+00, TR length: 1.00e-01\n",
      "168) Best value: -3.30e+00, TR length: 1.00e-01\n",
      "172) Best value: -2.65e+00, TR length: 1.00e-01\n",
      "176) Best value: -2.65e+00, TR length: 1.00e-01\n",
      "180) Best value: -2.65e+00, TR length: 1.00e-01\n",
      "184) Best value: -2.65e+00, TR length: 1.00e-01\n",
      "188) Best value: -2.51e+00, TR length: 1.00e-01\n",
      "192) Best value: -2.51e+00, TR length: 1.00e-01\n",
      "196) Best value: -2.51e+00, TR length: 1.00e-01\n",
      "200) Best value: -2.29e+00, TR length: 1.00e-01\n",
      "204) Best value: -2.29e+00, TR length: 1.00e-01\n",
      "208) Best value: -2.29e+00, TR length: 1.00e-01\n",
      "212) Best value: -2.29e+00, TR length: 1.00e-01\n",
      "216) Best value: -2.29e+00, TR length: 1.00e-01\n",
      "220) Best value: -2.29e+00, TR length: 5.00e-02\n",
      "224) Best value: -2.08e+00, TR length: 5.00e-02\n",
      "228) Best value: -2.08e+00, TR length: 5.00e-02\n",
      "232) Best value: -2.08e+00, TR length: 5.00e-02\n",
      "236) Best value: -2.08e+00, TR length: 5.00e-02\n",
      "240) Best value: -2.08e+00, TR length: 5.00e-02\n",
      "244) Best value: -1.88e+00, TR length: 5.00e-02\n",
      "248) Best value: -1.88e+00, TR length: 5.00e-02\n",
      "252) Best value: -1.88e+00, TR length: 5.00e-02\n",
      "256) Best value: -1.79e+00, TR length: 5.00e-02\n",
      "260) Best value: -1.79e+00, TR length: 5.00e-02\n",
      "264) Best value: -1.70e+00, TR length: 5.00e-02\n",
      "268) Best value: -1.64e+00, TR length: 5.00e-02\n",
      "272) Best value: -1.64e+00, TR length: 5.00e-02\n",
      "276) Best value: -1.64e+00, TR length: 5.00e-02\n",
      "280) Best value: -1.64e+00, TR length: 5.00e-02\n",
      "284) Best value: -1.64e+00, TR length: 5.00e-02\n",
      "288) Best value: -1.64e+00, TR length: 2.50e-02\n",
      "292) Best value: -1.14e+00, TR length: 2.50e-02\n",
      "296) Best value: -1.11e+00, TR length: 2.50e-02\n",
      "300) Best value: -1.11e+00, TR length: 2.50e-02\n",
      "304) Best value: -1.11e+00, TR length: 2.50e-02\n",
      "308) Best value: -9.68e-01, TR length: 2.50e-02\n",
      "312) Best value: -9.68e-01, TR length: 2.50e-02\n",
      "316) Best value: -9.68e-01, TR length: 2.50e-02\n",
      "320) Best value: -9.68e-01, TR length: 2.50e-02\n",
      "324) Best value: -9.14e-01, TR length: 2.50e-02\n",
      "328) Best value: -9.14e-01, TR length: 2.50e-02\n",
      "332) Best value: -9.14e-01, TR length: 2.50e-02\n",
      "336) Best value: -9.14e-01, TR length: 2.50e-02\n",
      "340) Best value: -9.14e-01, TR length: 2.50e-02\n",
      "344) Best value: -9.14e-01, TR length: 1.25e-02\n",
      "348) Best value: -8.89e-01, TR length: 1.25e-02\n",
      "352) Best value: -8.89e-01, TR length: 1.25e-02\n",
      "356) Best value: -8.89e-01, TR length: 1.25e-02\n",
      "360) Best value: -8.89e-01, TR length: 1.25e-02\n",
      "364) Best value: -8.84e-01, TR length: 1.25e-02\n",
      "368) Best value: -8.84e-01, TR length: 1.25e-02\n",
      "372) Best value: -8.84e-01, TR length: 1.25e-02\n",
      "376) Best value: -8.27e-01, TR length: 1.25e-02\n",
      "380) Best value: -5.56e-01, TR length: 1.25e-02\n",
      "384) Best value: -4.68e-01, TR length: 1.25e-02\n",
      "388) Best value: -4.68e-01, TR length: 1.25e-02\n",
      "392) Best value: -3.39e-01, TR length: 1.25e-02\n",
      "396) Best value: -3.39e-01, TR length: 1.25e-02\n",
      "400) Best value: -3.39e-01, TR length: 1.25e-02\n",
      "404) Best value: -3.39e-01, TR length: 1.25e-02\n",
      "408) Best value: -3.39e-01, TR length: 1.25e-02\n",
      "412) Best value: -3.21e-01, TR length: 1.25e-02\n",
      "416) Best value: -3.21e-01, TR length: 1.25e-02\n",
      "420) Best value: -3.21e-01, TR length: 1.25e-02\n",
      "424) Best value: -2.70e-01, TR length: 1.25e-02\n",
      "428) Best value: -2.35e-01, TR length: 1.25e-02\n",
      "432) Best value: -2.35e-01, TR length: 1.25e-02\n",
      "436) Best value: -2.04e-01, TR length: 1.25e-02\n",
      "440) Best value: -2.04e-01, TR length: 1.25e-02\n",
      "444) Best value: -2.04e-01, TR length: 1.25e-02\n",
      "448) Best value: -2.04e-01, TR length: 1.25e-02\n",
      "452) Best value: -1.65e-01, TR length: 1.25e-02\n",
      "456) Best value: -1.65e-01, TR length: 1.25e-02\n",
      "460) Best value: -1.65e-01, TR length: 1.25e-02\n",
      "464) Best value: -1.65e-01, TR length: 1.25e-02\n",
      "468) Best value: -1.65e-01, TR length: 1.25e-02\n",
      "472) Best value: -1.65e-01, TR length: 6.25e-03\n",
      "finished\n"
     ]
    }
   ],
   "source": [
    "def search_optimized():\n",
    "    X_turbo = generate_random_points(dim, n_init)\n",
    "    Y_turbo = torch.tensor(\n",
    "        [eval_objective(x) for x in X_turbo], dtype=dtype, device=device\n",
    "    ).unsqueeze(-1)\n",
    "\n",
    "    state = TurboState(dim, batch_size=batch_size, best_value=max(Y_turbo).item())\n",
    "\n",
    "    NUM_RESTARTS = 10 if not SMOKE_TEST else 2\n",
    "    RAW_SAMPLES = 512 if not SMOKE_TEST else 4\n",
    "    N_CANDIDATES = min(5000, max(2000, 200 * dim)) if not SMOKE_TEST else 4\n",
    "\n",
    "    torch.manual_seed(0)\n",
    "\n",
    "    while not state.restart_triggered:  # Run until TuRBO converges\n",
    "        # Fit a GP model\n",
    "        train_Y = (Y_turbo - Y_turbo.mean()) / Y_turbo.std()\n",
    "        likelihood = GaussianLikelihood(noise_constraint=Interval(1e-8, 1e-3))\n",
    "        covar_module = ScaleKernel(  # Use the same lengthscale prior as in the TuRBO paper\n",
    "            MaternKernel(\n",
    "                nu=2.5, ard_num_dims=dim, lengthscale_constraint=Interval(0.005, 4.0)\n",
    "            )\n",
    "        )\n",
    "        model = SingleTaskGP(\n",
    "            X_turbo, train_Y, covar_module=covar_module, likelihood=likelihood\n",
    "        )\n",
    "        mll = ExactMarginalLogLikelihood(model.likelihood, model)\n",
    "\n",
    "        # Do the fitting and acquisition function optimization inside the Cholesky context\n",
    "        with gpytorch.settings.max_cholesky_size(max_cholesky_size):\n",
    "            # Fit the model\n",
    "            fit_gpytorch_mll(mll)\n",
    "\n",
    "            # Create a batch\n",
    "            X_next = generate_batch(\n",
    "                state=state,\n",
    "                model=model,\n",
    "                X=X_turbo,\n",
    "                Y=train_Y,\n",
    "                batch_size=batch_size,\n",
    "                n_candidates=N_CANDIDATES,\n",
    "                num_restarts=NUM_RESTARTS,\n",
    "                raw_samples=RAW_SAMPLES,\n",
    "                acqf=\"ts\",\n",
    "            )\n",
    "            \n",
    "        Y_next = torch.tensor(\n",
    "            [eval_objective(x) for x in X_next], dtype=dtype, device=device\n",
    "        ).unsqueeze(-1)\n",
    "\n",
    "        # Update state\n",
    "        state = update_state(state=state, Y_next=Y_next)\n",
    "\n",
    "        # Append data\n",
    "        X_turbo = torch.cat((X_turbo, X_next), dim=0)\n",
    "        Y_turbo = torch.cat((Y_turbo, Y_next), dim=0)\n",
    "\n",
    "        # Print current status\n",
    "        print(\n",
    "            f\"{len(X_turbo)}) Best value: {state.best_value:.2e}, TR length: {state.length:.2e}\"\n",
    "        )\n",
    "    print(\"finished\")\n",
    "    return X_turbo, Y_turbo\n",
    "        \n",
    "X_turboa, Y_turboa = search_optimized()\n",
    "\n"
   ]
  },
  {
   "cell_type": "markdown",
   "metadata": {
    "originalKey": "518bbb5e-84f6-4062-bf28-25ccf7650c01",
    "showInput": false
   },
   "source": [
    "## GP-LogEI\n",
    "We compare TuRBO to qLogEI [2], a recent improvement to the expected improvement (EI) acquisition functions.\n",
    "\n",
    "[2]: [Ament, Sebastian, et al., Unexpected Improvements to Expected Improvement for Bayesian Optimization. Advances in Neural Information Processing Systems. 2023](https://proceedings.neurips.cc/paper_files/paper/2023/file/419f72cbd568ad62183f8132a3605a2a-Paper-Conference.pdf)\n",
    "\n"
   ]
  },
  {
   "cell_type": "code",
   "execution_count": 8,
   "metadata": {
    "executionStartTime": 1674921663896,
    "executionStopTime": 1674921754833,
    "jupyter": {
     "outputs_hidden": false
    },
    "originalKey": "8cc7262f-36ac-427f-b7a1-d94b0ceeae5e",
    "requestMsgId": "20905f90-c4bf-4073-9f15-9ac77e1f9c22"
   },
   "outputs": [
    {
     "name": "stdout",
     "output_type": "stream",
     "text": [
      "44) Best value: -1.24e+01, TR length: 8.00e-01\n",
      "48) Best value: -1.18e+01, TR length: 8.00e-01\n",
      "52) Best value: -1.10e+01, TR length: 8.00e-01\n",
      "56) Best value: -1.10e+01, TR length: 8.00e-01\n",
      "60) Best value: -1.10e+01, TR length: 8.00e-01\n",
      "64) Best value: -1.10e+01, TR length: 8.00e-01\n",
      "68) Best value: -1.05e+01, TR length: 8.00e-01\n",
      "72) Best value: -9.04e+00, TR length: 8.00e-01\n",
      "76) Best value: -9.04e+00, TR length: 8.00e-01\n",
      "80) Best value: -7.88e+00, TR length: 8.00e-01\n",
      "84) Best value: -7.88e+00, TR length: 8.00e-01\n",
      "88) Best value: -7.88e+00, TR length: 8.00e-01\n",
      "92) Best value: -7.88e+00, TR length: 8.00e-01\n",
      "96) Best value: -7.88e+00, TR length: 8.00e-01\n",
      "100) Best value: -7.88e+00, TR length: 4.00e-01\n",
      "104) Best value: -6.49e+00, TR length: 4.00e-01\n",
      "108) Best value: -6.49e+00, TR length: 4.00e-01\n",
      "112) Best value: -6.49e+00, TR length: 4.00e-01\n",
      "116) Best value: -6.49e+00, TR length: 4.00e-01\n",
      "120) Best value: -6.49e+00, TR length: 4.00e-01\n",
      "124) Best value: -6.46e+00, TR length: 4.00e-01\n",
      "128) Best value: -6.46e+00, TR length: 4.00e-01\n",
      "132) Best value: -5.95e+00, TR length: 4.00e-01\n",
      "136) Best value: -5.95e+00, TR length: 4.00e-01\n",
      "140) Best value: -5.95e+00, TR length: 4.00e-01\n",
      "144) Best value: -5.74e+00, TR length: 4.00e-01\n",
      "148) Best value: -5.74e+00, TR length: 4.00e-01\n",
      "152) Best value: -5.74e+00, TR length: 4.00e-01\n",
      "156) Best value: -5.74e+00, TR length: 4.00e-01\n",
      "160) Best value: -5.74e+00, TR length: 4.00e-01\n",
      "164) Best value: -5.38e+00, TR length: 4.00e-01\n",
      "168) Best value: -5.38e+00, TR length: 4.00e-01\n",
      "172) Best value: -5.38e+00, TR length: 4.00e-01\n",
      "176) Best value: -5.31e+00, TR length: 4.00e-01\n",
      "180) Best value: -5.31e+00, TR length: 4.00e-01\n",
      "184) Best value: -5.22e+00, TR length: 4.00e-01\n",
      "188) Best value: -5.22e+00, TR length: 4.00e-01\n",
      "192) Best value: -5.22e+00, TR length: 4.00e-01\n",
      "196) Best value: -5.22e+00, TR length: 4.00e-01\n",
      "200) Best value: -5.22e+00, TR length: 4.00e-01\n",
      "204) Best value: -5.22e+00, TR length: 2.00e-01\n",
      "208) Best value: -4.31e+00, TR length: 2.00e-01\n",
      "212) Best value: -3.58e+00, TR length: 2.00e-01\n",
      "216) Best value: -3.58e+00, TR length: 2.00e-01\n",
      "220) Best value: -3.58e+00, TR length: 2.00e-01\n",
      "224) Best value: -3.58e+00, TR length: 2.00e-01\n",
      "228) Best value: -3.58e+00, TR length: 2.00e-01\n",
      "232) Best value: -3.58e+00, TR length: 1.00e-01\n",
      "236) Best value: -3.19e+00, TR length: 1.00e-01\n",
      "240) Best value: -2.99e+00, TR length: 1.00e-01\n",
      "244) Best value: -2.93e+00, TR length: 1.00e-01\n",
      "248) Best value: -2.93e+00, TR length: 1.00e-01\n",
      "252) Best value: -2.93e+00, TR length: 1.00e-01\n",
      "256) Best value: -2.60e+00, TR length: 1.00e-01\n",
      "260) Best value: -2.60e+00, TR length: 1.00e-01\n",
      "264) Best value: -2.60e+00, TR length: 1.00e-01\n",
      "268) Best value: -2.60e+00, TR length: 1.00e-01\n",
      "272) Best value: -2.60e+00, TR length: 1.00e-01\n",
      "276) Best value: -2.60e+00, TR length: 5.00e-02\n",
      "280) Best value: -2.60e+00, TR length: 5.00e-02\n",
      "284) Best value: -2.33e+00, TR length: 5.00e-02\n",
      "288) Best value: -2.06e+00, TR length: 5.00e-02\n",
      "292) Best value: -2.06e+00, TR length: 5.00e-02\n",
      "296) Best value: -2.02e+00, TR length: 5.00e-02\n",
      "300) Best value: -2.02e+00, TR length: 5.00e-02\n",
      "304) Best value: -2.02e+00, TR length: 5.00e-02\n",
      "308) Best value: -2.02e+00, TR length: 5.00e-02\n",
      "312) Best value: -2.02e+00, TR length: 5.00e-02\n",
      "316) Best value: -2.02e+00, TR length: 2.50e-02\n",
      "320) Best value: -1.73e+00, TR length: 2.50e-02\n",
      "324) Best value: -1.49e+00, TR length: 2.50e-02\n",
      "328) Best value: -1.49e+00, TR length: 2.50e-02\n",
      "332) Best value: -1.49e+00, TR length: 2.50e-02\n",
      "336) Best value: -1.49e+00, TR length: 2.50e-02\n",
      "340) Best value: -1.19e+00, TR length: 2.50e-02\n",
      "344) Best value: -1.19e+00, TR length: 2.50e-02\n",
      "348) Best value: -1.18e+00, TR length: 2.50e-02\n",
      "352) Best value: -1.18e+00, TR length: 2.50e-02\n",
      "356) Best value: -1.18e+00, TR length: 2.50e-02\n",
      "360) Best value: -1.13e+00, TR length: 2.50e-02\n",
      "364) Best value: -1.13e+00, TR length: 2.50e-02\n",
      "368) Best value: -1.13e+00, TR length: 2.50e-02\n",
      "372) Best value: -1.03e+00, TR length: 2.50e-02\n",
      "376) Best value: -1.03e+00, TR length: 2.50e-02\n",
      "380) Best value: -1.03e+00, TR length: 2.50e-02\n",
      "384) Best value: -1.03e+00, TR length: 2.50e-02\n",
      "388) Best value: -1.03e+00, TR length: 2.50e-02\n",
      "392) Best value: -1.03e+00, TR length: 1.25e-02\n",
      "396) Best value: -7.75e-01, TR length: 1.25e-02\n",
      "400) Best value: -7.75e-01, TR length: 1.25e-02\n",
      "404) Best value: -7.75e-01, TR length: 1.25e-02\n",
      "408) Best value: -7.75e-01, TR length: 1.25e-02\n",
      "412) Best value: -6.75e-01, TR length: 1.25e-02\n",
      "416) Best value: -6.75e-01, TR length: 1.25e-02\n",
      "420) Best value: -6.75e-01, TR length: 1.25e-02\n",
      "424) Best value: -6.75e-01, TR length: 1.25e-02\n",
      "428) Best value: -6.75e-01, TR length: 1.25e-02\n",
      "432) Best value: -5.89e-01, TR length: 1.25e-02\n",
      "436) Best value: -5.89e-01, TR length: 1.25e-02\n",
      "440) Best value: -5.89e-01, TR length: 1.25e-02\n",
      "444) Best value: -5.89e-01, TR length: 1.25e-02\n",
      "448) Best value: -5.89e-01, TR length: 1.25e-02\n",
      "452) Best value: -5.64e-01, TR length: 1.25e-02\n",
      "456) Best value: -4.21e-01, TR length: 1.25e-02\n",
      "460) Best value: -4.21e-01, TR length: 1.25e-02\n",
      "464) Best value: -4.21e-01, TR length: 1.25e-02\n",
      "468) Best value: -4.21e-01, TR length: 1.25e-02\n",
      "472) Best value: -4.21e-01, TR length: 1.25e-02\n",
      "476) Best value: -4.21e-01, TR length: 6.25e-03\n",
      "finished\n"
     ]
    }
   ],
   "source": [
    "def search_optimized_2():\n",
    "    X_turbo = get_initial_points(dim, n_init)\n",
    "    Y_turbo = torch.tensor(\n",
    "        [eval_objective(x) for x in X_turbo], dtype=dtype, device=device\n",
    "    ).unsqueeze(-1)\n",
    "\n",
    "    state = TurboState(dim, batch_size=batch_size, best_value=max(Y_turbo).item())\n",
    "\n",
    "    NUM_RESTARTS = 10 if not SMOKE_TEST else 2\n",
    "    RAW_SAMPLES = 512 if not SMOKE_TEST else 4\n",
    "    N_CANDIDATES = min(5000, max(2000, 200 * dim)) if not SMOKE_TEST else 4\n",
    "\n",
    "    torch.manual_seed(0)\n",
    "\n",
    "    while not state.restart_triggered:  # Run until TuRBO converges\n",
    "        # Fit a GP model\n",
    "        train_Y = (Y_turbo - Y_turbo.mean()) / Y_turbo.std()\n",
    "        likelihood = GaussianLikelihood(noise_constraint=Interval(1e-8, 1e-3))\n",
    "        covar_module = ScaleKernel(  # Use the same lengthscale prior as in the TuRBO paper\n",
    "            MaternKernel(\n",
    "                nu=2.5, ard_num_dims=dim, lengthscale_constraint=Interval(0.005, 4.0)\n",
    "            )\n",
    "        )\n",
    "        model = SingleTaskGP(\n",
    "            X_turbo, train_Y, covar_module=covar_module, likelihood=likelihood\n",
    "        )\n",
    "        mll = ExactMarginalLogLikelihood(model.likelihood, model)\n",
    "\n",
    "        # Do the fitting and acquisition function optimization inside the Cholesky context\n",
    "        with gpytorch.settings.max_cholesky_size(max_cholesky_size):\n",
    "            # Fit the model\n",
    "            fit_gpytorch_mll(mll)\n",
    "\n",
    "            # Create a batch\n",
    "            X_next = generate_batch(\n",
    "                state=state,\n",
    "                model=model,\n",
    "                X=X_turbo,\n",
    "                Y=train_Y,\n",
    "                batch_size=batch_size,\n",
    "                n_candidates=N_CANDIDATES,\n",
    "                num_restarts=NUM_RESTARTS,\n",
    "                raw_samples=RAW_SAMPLES,\n",
    "                acqf=\"ts\",\n",
    "            )\n",
    "\n",
    "        Y_next = torch.tensor(\n",
    "            [eval_objective(x) for x in X_next], dtype=dtype, device=device\n",
    "        ).unsqueeze(-1)\n",
    "\n",
    "        # Update state\n",
    "        state = update_state(state=state, Y_next=Y_next)\n",
    "\n",
    "        # Append data\n",
    "        X_turbo = torch.cat((X_turbo, X_next), dim=0)\n",
    "        Y_turbo = torch.cat((Y_turbo, Y_next), dim=0)\n",
    "\n",
    "        # Print current status\n",
    "        print(\n",
    "            f\"{len(X_turbo)}) Best value: {state.best_value:.2e}, TR length: {state.length:.2e}\"\n",
    "        )\n",
    "    print(\"finished\")\n",
    "    return X_turbo, Y_turbo\n",
    "\n",
    "a, b = search_optimized_2()"
   ]
  },
  {
   "cell_type": "markdown",
   "metadata": {},
   "source": [
    "## GP-EI"
   ]
  },
  {
   "cell_type": "code",
   "execution_count": null,
   "metadata": {},
   "outputs": [],
   "source": []
  },
  {
   "cell_type": "markdown",
   "metadata": {
    "originalKey": "38f8ac21-d9ae-41f7-ba42-0ff6abde0a2c",
    "showInput": false
   },
   "source": [
    "## Sobol"
   ]
  },
  {
   "cell_type": "code",
   "execution_count": null,
   "metadata": {
    "executionStartTime": 1674921754972,
    "executionStopTime": 1674921755010,
    "jupyter": {
     "outputs_hidden": false
    },
    "originalKey": "a6333e87-1fcf-4174-9cb8-111598dd7780",
    "requestMsgId": "629a258e-fa1d-44f8-848c-3335a98e3421"
   },
   "outputs": [],
   "source": []
  },
  {
   "cell_type": "markdown",
   "metadata": {
    "originalKey": "e20c8975-af02-4308-a1ef-3f12afb85ffd",
    "showInput": false
   },
   "source": [
    "## Compare the methods"
   ]
  },
  {
   "cell_type": "code",
   "execution_count": null,
   "metadata": {
    "executionStartTime": 1674921755158,
    "executionStopTime": 1674921757156,
    "jupyter": {
     "outputs_hidden": false
    },
    "originalKey": "b57b38e5-da03-4511-a301-7252eb6c7013",
    "requestMsgId": "7c4c1c41-4852-4498-a42e-14e08dc88afb"
   },
   "outputs": [],
   "source": []
  },
  {
   "cell_type": "code",
   "execution_count": null,
   "metadata": {
    "executionStartTime": 1674921757397,
    "executionStopTime": 1674921757407,
    "jupyter": {
     "outputs_hidden": false
    },
    "originalKey": "81817f68-6383-4446-abc2-7ac698325684",
    "requestMsgId": "f058303d-23d4-4c3a-b5e5-0042b9f1cc05"
   },
   "outputs": [],
   "source": []
  }
 ],
 "metadata": {
  "kernelspec": {
   "display_name": "Python 3 (ipykernel)",
   "language": "python",
   "name": "python3"
  },
  "language_info": {
   "codemirror_mode": {
    "name": "ipython",
    "version": 3
   },
   "file_extension": ".py",
   "mimetype": "text/x-python",
   "name": "python",
   "nbconvert_exporter": "python",
   "pygments_lexer": "ipython3",
   "version": "3.9.13"
  }
 },
 "nbformat": 4,
 "nbformat_minor": 4
}
